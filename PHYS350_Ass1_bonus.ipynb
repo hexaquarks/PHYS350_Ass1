{
 "cells": [
  {
   "cell_type": "code",
   "execution_count": 281,
   "metadata": {},
   "outputs": [],
   "source": [
    "import matplotlib.pyplot as plt\n",
    "import numpy as np"
   ]
  },
  {
   "cell_type": "markdown",
   "metadata": {},
   "source": [
    "### Question 1"
   ]
  },
  {
   "cell_type": "code",
   "execution_count": 301,
   "metadata": {},
   "outputs": [],
   "source": [
    "## I set the value of r in Coulomb's law to 1 since it is aribtrary.\n",
    "## I set the value of Q to the elementary charge q, since nothing was specified.\n",
    "q=1.602*10**(-19)\n",
    "k_const = 8.987*10**(9)\n",
    "\n",
    "def net_forces_Question1(n,m):\n",
    "    if n==0 and m==0:\n",
    "        return 0\n",
    "    else:\n",
    "        x_forces,y_forces = [],[]\n",
    "    \n",
    "        angle=360/n\n",
    "    \n",
    "        temp=0\n",
    "        for i in range(np.int(m)):\n",
    "            y_forces.append(k_const*q*(q/m)*np.cos((temp+angle/2) * np.pi / 180))\n",
    "            x_forces.append(k_const*q*(q/m)*np.sin((temp+angle/2) * np.pi / 180))\n",
    "            temp = temp+angle\n",
    "        \n",
    "        net_y = np.sum([y_forces])\n",
    "        net_x = np.sum([x_forces])\n",
    "    \n",
    "        net_force = np.sqrt(net_y**2 + net_x**2)\n",
    "    \n",
    "    return net_force"
   ]
  },
  {
   "cell_type": "markdown",
   "metadata": {},
   "source": [
    "#### Veryfing cases"
   ]
  },
  {
   "cell_type": "code",
   "execution_count": 302,
   "metadata": {},
   "outputs": [
    {
     "name": "stdout",
     "output_type": "stream",
     "text": [
      "2.735118390461879e-43\n"
     ]
    }
   ],
   "source": [
    "print(net_forces_Question1(50,50))\n",
    "### For n=m , net force is 0 (here we have a very small fluctuation as it should)."
   ]
  },
  {
   "cell_type": "code",
   "execution_count": 303,
   "metadata": {},
   "outputs": [
    {
     "name": "stdout",
     "output_type": "stream",
     "text": [
      "1.922022729000008e-29\n",
      "1.922022729e-29\n"
     ]
    }
   ],
   "source": [
    "print(net_forces_Question1(13,12))\n",
    "print(net_forces_Question1(13,1)/12)\n",
    "\n",
    "### Indeed both agree. A division by 12 in the 13,1 case since the function\n",
    "### net_forces_Question1 divides the charges by m."
   ]
  },
  {
   "cell_type": "code",
   "execution_count": 304,
   "metadata": {},
   "outputs": [
    {
     "name": "stdout",
     "output_type": "stream",
     "text": [
      "0\n"
     ]
    }
   ],
   "source": [
    "print(net_forces_Question1(0,0))"
   ]
  },
  {
   "cell_type": "markdown",
   "metadata": {},
   "source": [
    "### Question 2"
   ]
  },
  {
   "cell_type": "code",
   "execution_count": 307,
   "metadata": {},
   "outputs": [],
   "source": [
    "import numpy as np\n",
    "\n",
    "### Function that takes n , and returns a net x force and net y force\n",
    "### at the middle Q charge.\n",
    "def net_forces_Question2(n):\n",
    "    x_forces,y_forces = [],[]\n",
    "    \n",
    "    m = (n-1)/2\n",
    "    angle=360/n\n",
    "    \n",
    "    temp=0\n",
    "    for i in range(np.int(m)):\n",
    "        y_forces.append(k_const*q*(q/m)*np.cos((temp+angle/2) * np.pi / 180))\n",
    "        x_forces.append(k_const*q*(q/m)*np.sin((temp+angle/2) * np.pi / 180))\n",
    "        temp = temp+angle\n",
    "        \n",
    "    net_y = np.sum([y_forces])\n",
    "    net_x = np.sum([x_forces])\n",
    "    \n",
    "    net_force = np.sqrt(net_y**2 + net_x**2)\n",
    "    \n",
    "    return net_force"
   ]
  },
  {
   "cell_type": "code",
   "execution_count": 314,
   "metadata": {},
   "outputs": [
    {
     "data": {
      "image/png": "[encoded data removed]",
      "text/plain": [
       "<Figure size 540x450 with 1 Axes>"
      ]
     },
     "metadata": {
      "needs_background": "light"
     },
     "output_type": "display_data"
    }
   ],
   "source": [
    "from matplotlib import pyplot as plt\n",
    "\n",
    "### Function that accumulates net forces for multiple values of n, so \n",
    "### that they may be distributed on a F_x vs n and F_y vs n graph\n",
    "def graph_distribution(n):\n",
    "    force_list,n_list= [],[]\n",
    "    \n",
    "    k=1\n",
    "    for i in range ((np.int(n)+1)//2):\n",
    "        n_list.append(k)\n",
    "        force_list.append(net_forces_Question2(k))\n",
    "        k=k+2\n",
    "    return force_list, n_list\n",
    "    \n",
    "\n",
    "forces_list, n_list = graph_distribution(51)\n",
    "\n",
    "forces_list=[item*10**28 for item in forces_list]\n",
    "\n",
    "###############\n",
    "\n",
    "fig, a0, = plt.subplots(\n",
    "    figsize=(6,5),\n",
    "    dpi=90,                 \n",
    ")\n",
    "a0.plot(n_list,\n",
    "        forces_list,\n",
    "        '--b.',\n",
    "        marker=\".\",\n",
    "        markersize=9,\n",
    "        markerfacecolor=\"white\",)\n",
    "a0.set_ylabel(\"Net force at the center $[x 10^{28}]$ from \\n $m=\\dfrac{n-1}{2}$ charges\",size=\"medium\")\n",
    "a0.set_title(\"Net force on a central charge, as a function of $n$\")\n",
    "\n",
    "fig.tight_layout()\n",
    "plt.gcf().text(0.55,0.0005,r\"Number of equally spaced slots $n$\", ha=\"center\", size=\"large\")\n",
    "a0.tick_params(axis='y', direction=\"in\", right=True)\n",
    "a0.tick_params(axis='x', direction=\"in\", top=True)"
   ]
  },
  {
   "cell_type": "code",
   "execution_count": null,
   "metadata": {},
   "outputs": [],
   "source": []
  },
  {
   "cell_type": "code",
   "execution_count": null,
   "metadata": {},
   "outputs": [],
   "source": []
  }
 ],
 "metadata": {
  "kernelspec": {
   "display_name": "Python 3",
   "language": "python",
   "name": "python3"
  },
  "language_info": {
   "codemirror_mode": {
    "name": "ipython",
    "version": 3
   },
   "file_extension": ".py",
   "mimetype": "text/x-python",
   "name": "python",
   "nbconvert_exporter": "python",
   "pygments_lexer": "ipython3",
   "version": "3.7.3"
  }
 },
 "nbformat": 4,
 "nbformat_minor": 2
}
